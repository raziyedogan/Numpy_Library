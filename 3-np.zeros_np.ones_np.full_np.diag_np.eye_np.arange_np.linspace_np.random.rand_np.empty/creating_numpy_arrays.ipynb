{
 "cells": [
  {
   "cell_type": "markdown",
   "id": "a6d06fdb",
   "metadata": {},
   "source": [
    "# Numpy Dizileri Oluşturma\n",
    "\n",
    "Numpy dizileri oluşturmak için temelde 2 yol vardır. \n",
    "    \n",
    "    1.yol: Numpy kütüphanesinin içerdiği fonksiyonlar kullanılarak\n",
    "    \n",
    "    2.yol: Python'un sağlamış olduğu tuple ve list veri yapılarını Numpy fonksiyonlarında çağırarak.\n",
    "    \n",
    "## Numpy Kütüphanesini Kullanarak Numpy Dizilerini Oluşturma\n",
    "\n",
    "### np.zeros\n",
    "\n",
    "İstenilen boyut ve veri türüne göre 0 değeri ile dolu bir dizi oluşturmayı sağlar.\n",
    "\n",
    "3 satır ve 2 sütundan oluşan 0 değerleri ile dolu bir dizi oluşturalım."
   ]
  },
  {
   "cell_type": "code",
   "execution_count": 1,
   "id": "3e2ae727",
   "metadata": {},
   "outputs": [],
   "source": [
    "import numpy as np"
   ]
  },
  {
   "cell_type": "code",
   "execution_count": 2,
   "id": "484befb2",
   "metadata": {},
   "outputs": [],
   "source": [
    "data = np.zeros((3,2))"
   ]
  },
  {
   "cell_type": "code",
   "execution_count": 3,
   "id": "732ace24",
   "metadata": {},
   "outputs": [
    {
     "data": {
      "text/plain": [
       "array([[0., 0.],\n",
       "       [0., 0.],\n",
       "       [0., 0.]])"
      ]
     },
     "execution_count": 3,
     "metadata": {},
     "output_type": "execute_result"
    }
   ],
   "source": [
    "data"
   ]
  },
  {
   "cell_type": "markdown",
   "id": "1c28c7c1",
   "metadata": {},
   "source": [
    "data isimli değişkenin boyutunu görüntüleyelim."
   ]
  },
  {
   "cell_type": "code",
   "execution_count": 4,
   "id": "c05d8fd1",
   "metadata": {},
   "outputs": [
    {
     "data": {
      "text/plain": [
       "2"
      ]
     },
     "execution_count": 4,
     "metadata": {},
     "output_type": "execute_result"
    }
   ],
   "source": [
    "data.ndim"
   ]
  },
  {
   "cell_type": "markdown",
   "id": "a02534dc",
   "metadata": {},
   "source": [
    "Yukarıda görüldüğü üzere data değişkeni 2 boyutludur.\n",
    "\n",
    "Şimdi boyutlarının uzunluğuna erişelim."
   ]
  },
  {
   "cell_type": "code",
   "execution_count": 5,
   "id": "15a8759c",
   "metadata": {},
   "outputs": [
    {
     "data": {
      "text/plain": [
       "(3, 2)"
      ]
     },
     "execution_count": 5,
     "metadata": {},
     "output_type": "execute_result"
    }
   ],
   "source": [
    "data.shape"
   ]
  },
  {
   "cell_type": "markdown",
   "id": "641580bb",
   "metadata": {},
   "source": [
    "Çıktıda görüldüğü üzere data değişkeni 3 satır ve 2 sütundan oluşmaktadır."
   ]
  },
  {
   "cell_type": "markdown",
   "id": "fbe60994",
   "metadata": {},
   "source": [
    "### np.ones\n",
    "\n",
    "İstenilen boyut ve veri türüne göre 1 değeri ile dolu bir dizi oluşturmayı sağlar.\n",
    "\n",
    "2 satır ve 3 sütundan oluşan 0 değerleri ile dolu bir dizi oluşturalım."
   ]
  },
  {
   "cell_type": "code",
   "execution_count": 6,
   "id": "de6a5896",
   "metadata": {},
   "outputs": [],
   "source": [
    "data = np.ones((2,3))"
   ]
  },
  {
   "cell_type": "code",
   "execution_count": 7,
   "id": "98a86797",
   "metadata": {},
   "outputs": [
    {
     "data": {
      "text/plain": [
       "array([[1., 1., 1.],\n",
       "       [1., 1., 1.]])"
      ]
     },
     "execution_count": 7,
     "metadata": {},
     "output_type": "execute_result"
    }
   ],
   "source": [
    "data"
   ]
  },
  {
   "cell_type": "markdown",
   "id": "2688e3b2",
   "metadata": {},
   "source": [
    "Çıktıda görüldüğü üzere data değişkeni sadece 1 değerlerinden oluşmaktadır."
   ]
  },
  {
   "cell_type": "markdown",
   "id": "0bb80bf4",
   "metadata": {},
   "source": [
    "data isimli değişkenin boyutuna erişelim."
   ]
  },
  {
   "cell_type": "code",
   "execution_count": 8,
   "id": "b9c72aec",
   "metadata": {},
   "outputs": [
    {
     "data": {
      "text/plain": [
       "2"
      ]
     },
     "execution_count": 8,
     "metadata": {},
     "output_type": "execute_result"
    }
   ],
   "source": [
    "data.ndim"
   ]
  },
  {
   "cell_type": "markdown",
   "id": "95550327",
   "metadata": {},
   "source": [
    "Boyutlarının uzunluğuna erişelim."
   ]
  },
  {
   "cell_type": "code",
   "execution_count": 9,
   "id": "28ab2f61",
   "metadata": {},
   "outputs": [
    {
     "data": {
      "text/plain": [
       "(2, 3)"
      ]
     },
     "execution_count": 9,
     "metadata": {},
     "output_type": "execute_result"
    }
   ],
   "source": [
    "data.shape"
   ]
  },
  {
   "cell_type": "markdown",
   "id": "8bbc5ea7",
   "metadata": {},
   "source": [
    "### np.full\n",
    "\n",
    "İstenilen boyut ve veri türüne göre bir dizi veya herhangi bir sayı ile dolu bir dizi oluşturur.\n",
    "\n",
    "Bu fonksiyon ile np.zeros ve np.ones fonksiyonlarının yaptığı işlemi yaptırabilirsiniz fakat kullanım kolaylığı açısından np.zeros ve np.ones daha rahattır.\n",
    "\n",
    "2 satır ve 2 sütundan oluşan içeriği 44 değeri ile dolu bir dizi oluşturalım."
   ]
  },
  {
   "cell_type": "code",
   "execution_count": 10,
   "id": "fc6d77d6",
   "metadata": {},
   "outputs": [],
   "source": [
    "data = np.full((2,2),44)"
   ]
  },
  {
   "cell_type": "code",
   "execution_count": 11,
   "id": "1ff4355c",
   "metadata": {},
   "outputs": [
    {
     "data": {
      "text/plain": [
       "array([[44, 44],\n",
       "       [44, 44]])"
      ]
     },
     "execution_count": 11,
     "metadata": {},
     "output_type": "execute_result"
    }
   ],
   "source": [
    "data"
   ]
  },
  {
   "cell_type": "markdown",
   "id": "8d6e4113",
   "metadata": {},
   "source": [
    "data isimli değişkenin boyutunu görüntüleyelim."
   ]
  },
  {
   "cell_type": "code",
   "execution_count": 12,
   "id": "20d1b682",
   "metadata": {},
   "outputs": [
    {
     "data": {
      "text/plain": [
       "2"
      ]
     },
     "execution_count": 12,
     "metadata": {},
     "output_type": "execute_result"
    }
   ],
   "source": [
    "data.ndim"
   ]
  },
  {
   "cell_type": "markdown",
   "id": "0dc785c8",
   "metadata": {},
   "source": [
    "Boyutlarının uzunluğuna erişelim."
   ]
  },
  {
   "cell_type": "code",
   "execution_count": 13,
   "id": "3b4a21d3",
   "metadata": {},
   "outputs": [
    {
     "data": {
      "text/plain": [
       "(2, 2)"
      ]
     },
     "execution_count": 13,
     "metadata": {},
     "output_type": "execute_result"
    }
   ],
   "source": [
    "data.shape"
   ]
  },
  {
   "cell_type": "markdown",
   "id": "24f4f971",
   "metadata": {},
   "source": [
    "np.full fonksiyonu kullanarak np.zeros gibi sonuç elde edelim."
   ]
  },
  {
   "cell_type": "code",
   "execution_count": 14,
   "id": "c93c9306",
   "metadata": {},
   "outputs": [],
   "source": [
    "data = np.full((2,2),0)"
   ]
  },
  {
   "cell_type": "code",
   "execution_count": 15,
   "id": "844fff03",
   "metadata": {},
   "outputs": [
    {
     "data": {
      "text/plain": [
       "array([[0, 0],\n",
       "       [0, 0]])"
      ]
     },
     "execution_count": 15,
     "metadata": {},
     "output_type": "execute_result"
    }
   ],
   "source": [
    "data"
   ]
  },
  {
   "cell_type": "code",
   "execution_count": 16,
   "id": "df28fb3d",
   "metadata": {},
   "outputs": [
    {
     "data": {
      "text/plain": [
       "2"
      ]
     },
     "execution_count": 16,
     "metadata": {},
     "output_type": "execute_result"
    }
   ],
   "source": [
    "data.ndim"
   ]
  },
  {
   "cell_type": "code",
   "execution_count": 17,
   "id": "1a97c582",
   "metadata": {},
   "outputs": [
    {
     "data": {
      "text/plain": [
       "(2, 2)"
      ]
     },
     "execution_count": 17,
     "metadata": {},
     "output_type": "execute_result"
    }
   ],
   "source": [
    "data.shape"
   ]
  },
  {
   "cell_type": "markdown",
   "id": "2dcba48f",
   "metadata": {},
   "source": [
    "np.full fonksiyonu kullanarak np.ones gibi sonuç elde edelim."
   ]
  },
  {
   "cell_type": "code",
   "execution_count": 18,
   "id": "1d66412b",
   "metadata": {},
   "outputs": [],
   "source": [
    "data = np.full((2,2),1)"
   ]
  },
  {
   "cell_type": "code",
   "execution_count": 19,
   "id": "fc994903",
   "metadata": {},
   "outputs": [
    {
     "data": {
      "text/plain": [
       "array([[1, 1],\n",
       "       [1, 1]])"
      ]
     },
     "execution_count": 19,
     "metadata": {},
     "output_type": "execute_result"
    }
   ],
   "source": [
    "data"
   ]
  },
  {
   "cell_type": "code",
   "execution_count": 20,
   "id": "6e66dc2b",
   "metadata": {},
   "outputs": [
    {
     "data": {
      "text/plain": [
       "2"
      ]
     },
     "execution_count": 20,
     "metadata": {},
     "output_type": "execute_result"
    }
   ],
   "source": [
    "data.ndim"
   ]
  },
  {
   "cell_type": "code",
   "execution_count": 21,
   "id": "cb0d5060",
   "metadata": {},
   "outputs": [
    {
     "data": {
      "text/plain": [
       "(2, 2)"
      ]
     },
     "execution_count": 21,
     "metadata": {},
     "output_type": "execute_result"
    }
   ],
   "source": [
    "data.shape"
   ]
  },
  {
   "cell_type": "markdown",
   "id": "15951390",
   "metadata": {},
   "source": [
    "### np.diag\n",
    "\n",
    "Var olan bir numpy dizisinin köşegen boyunca belirtilen değerlere sahip bir köşegen dizi oluşturur ve kalan yerleri 0 ile doldurur. "
   ]
  },
  {
   "cell_type": "code",
   "execution_count": 22,
   "id": "51cb7737",
   "metadata": {},
   "outputs": [
    {
     "data": {
      "text/plain": [
       "array([[1, 1],\n",
       "       [1, 1]])"
      ]
     },
     "execution_count": 22,
     "metadata": {},
     "output_type": "execute_result"
    }
   ],
   "source": [
    "data"
   ]
  },
  {
   "cell_type": "markdown",
   "id": "3d86277b",
   "metadata": {},
   "source": [
    "np.diag fonksiyonuna data değişkenini göndererek köşegenlerdeki değerleri alalım."
   ]
  },
  {
   "cell_type": "code",
   "execution_count": 23,
   "id": "030174e5",
   "metadata": {},
   "outputs": [
    {
     "data": {
      "text/plain": [
       "array([1, 1])"
      ]
     },
     "execution_count": 23,
     "metadata": {},
     "output_type": "execute_result"
    }
   ],
   "source": [
    "np.diag(data)"
   ]
  },
  {
   "cell_type": "markdown",
   "id": "37379b50",
   "metadata": {},
   "source": [
    "Şimdi ise köşeğen dışındaki değerleri sıfırlayalım."
   ]
  },
  {
   "cell_type": "code",
   "execution_count": 24,
   "id": "61730514",
   "metadata": {},
   "outputs": [
    {
     "data": {
      "text/plain": [
       "array([[1, 0],\n",
       "       [0, 1]])"
      ]
     },
     "execution_count": 24,
     "metadata": {},
     "output_type": "execute_result"
    }
   ],
   "source": [
    "np.diag(np.diag(data))"
   ]
  },
  {
   "cell_type": "markdown",
   "id": "5b5d0177",
   "metadata": {},
   "source": [
    "### np.eye\n",
    "\n",
    "İstenilen boyut ve veri türüne göre belirtilen köşegen boyunca bir değerleri ile köşegen dizisi oluşturur ve kalan yerleri sıfır ile doldurur.\n",
    "\n",
    "np.diag fonksiyonu ile oldukça benzerdir. Farkları ise np.eye fonksiyonunda köşegen değerlerin istediğimiz değer ile değilde 1 değeri ile dolduruluyor olmasıdır."
   ]
  },
  {
   "cell_type": "code",
   "execution_count": 25,
   "id": "6fec5268",
   "metadata": {},
   "outputs": [],
   "source": [
    "data = np.eye(3,3)"
   ]
  },
  {
   "cell_type": "code",
   "execution_count": 26,
   "id": "aca82809",
   "metadata": {},
   "outputs": [
    {
     "data": {
      "text/plain": [
       "array([[1., 0., 0.],\n",
       "       [0., 1., 0.],\n",
       "       [0., 0., 1.]])"
      ]
     },
     "execution_count": 26,
     "metadata": {},
     "output_type": "execute_result"
    }
   ],
   "source": [
    "data"
   ]
  },
  {
   "cell_type": "code",
   "execution_count": 27,
   "id": "80da7458",
   "metadata": {},
   "outputs": [
    {
     "data": {
      "text/plain": [
       "2"
      ]
     },
     "execution_count": 27,
     "metadata": {},
     "output_type": "execute_result"
    }
   ],
   "source": [
    "data.ndim"
   ]
  },
  {
   "cell_type": "code",
   "execution_count": 28,
   "id": "8c736557",
   "metadata": {},
   "outputs": [
    {
     "data": {
      "text/plain": [
       "(3, 3)"
      ]
     },
     "execution_count": 28,
     "metadata": {},
     "output_type": "execute_result"
    }
   ],
   "source": [
    "data.shape"
   ]
  },
  {
   "cell_type": "markdown",
   "id": "a588c564",
   "metadata": {},
   "source": [
    "### np.arange\n",
    "\n",
    "İstenilen başlangıç, bitiş ve artış değerleri arasında eşit aralıklı değerlere sahip bir dizi oluşturur.\n",
    "\n",
    "3 değerinden başlayarak 11'e kadar 2'şer artan değerlerden oluşan bir dizi oluşturalım."
   ]
  },
  {
   "cell_type": "code",
   "execution_count": 29,
   "id": "12abe242",
   "metadata": {},
   "outputs": [
    {
     "data": {
      "text/plain": [
       "array([3, 5, 7, 9])"
      ]
     },
     "execution_count": 29,
     "metadata": {},
     "output_type": "execute_result"
    }
   ],
   "source": [
    "data = np.arange(start=3, stop=11, step=2)\n",
    "data"
   ]
  },
  {
   "cell_type": "markdown",
   "id": "c802033e",
   "metadata": {},
   "source": [
    "### np.linspace\n",
    "\n",
    "İstenilen sayıda element kullanarak, belirtilen başlangıç ve bitiş değerleri arasında eşit aralıklı değerlere sahip bir dizi oluşturur.\n",
    "\n",
    "3 değerinden başlayarak 11'e kadar 5 değer içeren bir dizi oluşturalım."
   ]
  },
  {
   "cell_type": "code",
   "execution_count": 30,
   "id": "8016c934",
   "metadata": {},
   "outputs": [
    {
     "data": {
      "text/plain": [
       "array([ 3.,  5.,  7.,  9., 11.])"
      ]
     },
     "execution_count": 30,
     "metadata": {},
     "output_type": "execute_result"
    }
   ],
   "source": [
    "data = np.linspace(start=3, stop=11, num=5)\n",
    "data"
   ]
  },
  {
   "cell_type": "markdown",
   "id": "9ac5ce5a",
   "metadata": {},
   "source": [
    "### np.random.rand\n",
    "\n",
    "0 ile 1 arasında eşit olarak dağıtılan rastgele sayılarla bir dizi oluşturur.\n",
    "\n",
    "Rastgele üretilen sayıları sabitlemek için np.random.seed fonksiyonu kullanılır. Eğer bu fonksiyon ile sabitleme yaparsak rastgele üretilen değerler sabitlenir ve her çağırdığımızda aynı sayılar üretilir.\n",
    "\n",
    "Rastgele değişkenleri her seferinde aynı oluşturması np.random.seed değerini 0'a sabitleyelim."
   ]
  },
  {
   "cell_type": "code",
   "execution_count": 31,
   "id": "d7aa28fb",
   "metadata": {},
   "outputs": [],
   "source": [
    "np.random.seed(0)  #0 değerli sabitleme"
   ]
  },
  {
   "cell_type": "markdown",
   "id": "3e23cbf2",
   "metadata": {},
   "source": [
    "2 satır ve 3 sütundan oluşan içerisi rastgele değerler ile dolu bir dizi oluşturalım."
   ]
  },
  {
   "cell_type": "code",
   "execution_count": 33,
   "id": "dbc77af6",
   "metadata": {},
   "outputs": [],
   "source": [
    "data = np.random.rand(2,3)"
   ]
  },
  {
   "cell_type": "code",
   "execution_count": 34,
   "id": "cb9ab724",
   "metadata": {},
   "outputs": [
    {
     "data": {
      "text/plain": [
       "array([[0.5488135 , 0.71518937, 0.60276338],\n",
       "       [0.54488318, 0.4236548 , 0.64589411]])"
      ]
     },
     "execution_count": 34,
     "metadata": {},
     "output_type": "execute_result"
    }
   ],
   "source": [
    "data"
   ]
  },
  {
   "cell_type": "code",
   "execution_count": 35,
   "id": "97cda244",
   "metadata": {},
   "outputs": [
    {
     "data": {
      "text/plain": [
       "2"
      ]
     },
     "execution_count": 35,
     "metadata": {},
     "output_type": "execute_result"
    }
   ],
   "source": [
    "data.ndim"
   ]
  },
  {
   "cell_type": "code",
   "execution_count": 36,
   "id": "065d8c1f",
   "metadata": {},
   "outputs": [
    {
     "data": {
      "text/plain": [
       "(2, 3)"
      ]
     },
     "execution_count": 36,
     "metadata": {},
     "output_type": "execute_result"
    }
   ],
   "source": [
    "data.shape"
   ]
  },
  {
   "cell_type": "markdown",
   "id": "25a64731",
   "metadata": {},
   "source": [
    "### np.empty\n",
    "\n",
    "İstenilen boyut ve veri türüne göre dizinin değerleri başlatılmadan rastgele değerler ile dolu bir dizi oluşturmayı sağlar."
   ]
  },
  {
   "cell_type": "code",
   "execution_count": 37,
   "id": "b6cded48",
   "metadata": {},
   "outputs": [],
   "source": [
    "data = np.empty([2,2]) "
   ]
  },
  {
   "cell_type": "code",
   "execution_count": 38,
   "id": "76325539",
   "metadata": {},
   "outputs": [
    {
     "data": {
      "text/plain": [
       "array([[8.10607782e-312, 3.36652529e-289],\n",
       "       [4.60469182e-321, 1.37929727e-312]])"
      ]
     },
     "execution_count": 38,
     "metadata": {},
     "output_type": "execute_result"
    }
   ],
   "source": [
    "data"
   ]
  },
  {
   "cell_type": "code",
   "execution_count": 39,
   "id": "337983fc",
   "metadata": {},
   "outputs": [
    {
     "data": {
      "text/plain": [
       "(2, 2)"
      ]
     },
     "execution_count": 39,
     "metadata": {},
     "output_type": "execute_result"
    }
   ],
   "source": [
    "data.shape"
   ]
  },
  {
   "cell_type": "markdown",
   "id": "21f85b90",
   "metadata": {},
   "source": [
    "## Var Olan Python List Veya Tuple Dosyalarını Kullanarak Numpy Dizisi Oluşturma\n",
    "\n",
    "### np.array\n",
    "\n",
    "Elementleri, örneğin iç içe geçmiş bir python listesi, bir tuple, iteratif bir dizi veya başka bir ndarray örneği olabilen bir dizi benzeri nesnesinden bir Numpy dizisi oluşturur.\n",
    "\n",
    "Şimdi bir python listesinden numpy dizisi oluşturalım.\n",
    "\n",
    "data isimli bir değişkenin 1,2 ve 3 değerlerini içeren bir numpy dizisi oluşturmasını sağlayalım."
   ]
  },
  {
   "cell_type": "code",
   "execution_count": 40,
   "id": "3cc844cb",
   "metadata": {},
   "outputs": [],
   "source": [
    "data = np.array([1,2,3])"
   ]
  },
  {
   "cell_type": "code",
   "execution_count": 41,
   "id": "ec80317f",
   "metadata": {},
   "outputs": [
    {
     "data": {
      "text/plain": [
       "array([1, 2, 3])"
      ]
     },
     "execution_count": 41,
     "metadata": {},
     "output_type": "execute_result"
    }
   ],
   "source": [
    "data"
   ]
  },
  {
   "cell_type": "markdown",
   "id": "24678ba9",
   "metadata": {},
   "source": [
    "Şimdi iç içe geçmiş bir python listesinden numpy dizisi oluşturalım."
   ]
  },
  {
   "cell_type": "code",
   "execution_count": 42,
   "id": "aab04ffe",
   "metadata": {},
   "outputs": [],
   "source": [
    "data = np.array([[1,2], [3,4]])"
   ]
  },
  {
   "cell_type": "markdown",
   "id": "ca6ee072",
   "metadata": {},
   "source": [
    "Yukarıda 2 tane python listesini içeren bir numpy dizisi oluşturulmuştur."
   ]
  },
  {
   "cell_type": "code",
   "execution_count": 43,
   "id": "a8bf316a",
   "metadata": {},
   "outputs": [
    {
     "data": {
      "text/plain": [
       "array([[1, 2],\n",
       "       [3, 4]])"
      ]
     },
     "execution_count": 43,
     "metadata": {},
     "output_type": "execute_result"
    }
   ],
   "source": [
    "data"
   ]
  },
  {
   "cell_type": "code",
   "execution_count": 44,
   "id": "9ea78d99",
   "metadata": {},
   "outputs": [
    {
     "data": {
      "text/plain": [
       "(2, 2)"
      ]
     },
     "execution_count": 44,
     "metadata": {},
     "output_type": "execute_result"
    }
   ],
   "source": [
    "data.shape"
   ]
  },
  {
   "cell_type": "code",
   "execution_count": 45,
   "id": "8ffe2bab",
   "metadata": {},
   "outputs": [
    {
     "data": {
      "text/plain": [
       "2"
      ]
     },
     "execution_count": 45,
     "metadata": {},
     "output_type": "execute_result"
    }
   ],
   "source": [
    "data.ndim"
   ]
  },
  {
   "cell_type": "markdown",
   "id": "4857e2b0",
   "metadata": {},
   "source": [
    "Şimdi bir python tuple nesnesinden numpy dizisi oluşturalım. Bir tuple içerisine 1,2,3 değerlerini ekledikten sonra np.array fonksiyonuna gönderelim."
   ]
  },
  {
   "cell_type": "code",
   "execution_count": 46,
   "id": "6502e426",
   "metadata": {},
   "outputs": [],
   "source": [
    "data = np.array((1,2,3))"
   ]
  },
  {
   "cell_type": "markdown",
   "id": "b01b0c03",
   "metadata": {},
   "source": [
    "Tuple yapısından oluşan numpy dizisine bakalım."
   ]
  },
  {
   "cell_type": "code",
   "execution_count": 47,
   "id": "1c12dd10",
   "metadata": {},
   "outputs": [
    {
     "data": {
      "text/plain": [
       "array([1, 2, 3])"
      ]
     },
     "execution_count": 47,
     "metadata": {},
     "output_type": "execute_result"
    }
   ],
   "source": [
    "data"
   ]
  },
  {
   "cell_type": "markdown",
   "id": "b160c89e",
   "metadata": {},
   "source": [
    "Çıktıda görüldüğü üzere standart bir numpy dizisi oluşmuştur."
   ]
  }
 ],
 "metadata": {
  "kernelspec": {
   "display_name": "Python 3 (ipykernel)",
   "language": "python",
   "name": "python3"
  },
  "language_info": {
   "codemirror_mode": {
    "name": "ipython",
    "version": 3
   },
   "file_extension": ".py",
   "mimetype": "text/x-python",
   "name": "python",
   "nbconvert_exporter": "python",
   "pygments_lexer": "ipython3",
   "version": "3.9.12"
  }
 },
 "nbformat": 4,
 "nbformat_minor": 5
}
