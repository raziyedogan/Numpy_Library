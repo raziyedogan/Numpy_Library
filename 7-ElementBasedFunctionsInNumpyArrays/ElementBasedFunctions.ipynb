{
 "cells": [
  {
   "cell_type": "markdown",
   "id": "048c37cb",
   "metadata": {},
   "source": [
    "# Numpy Dizilerinde Eleman Bazlı Fonksiyonlar\n",
    "\n",
    "Eleman bazlı fonksiyonlar girdi olarak verilen numpy dizisine uygulandıklarında aynı boyuta sahip yeni bir dizi döndürür. Bu fonksiyonlar girdi dizisindeki bütün elementlere ayrı ayrı uygulanır.\n",
    "\n",
    "<font color=\"DodgerBlue\"><br>\n",
    "Bu kısımda anlatacağım metotlar şu şekildedir:\n",
    "<font color=\"Chocolate\"><br>\n",
    "np.exp\n",
    "<font color=\"Chocolate\"><br>\n",
    "np.sqrt\n",
    "<font color=\"Chocolate\"><br>\n",
    "np.log\n",
    "<font color=\"Chocolate\"><br>\n",
    "np.cos\n",
    "<font color=\"Chocolate\"><br>\n",
    "np.sin"
   ]
  },
  {
   "cell_type": "code",
   "execution_count": 2,
   "id": "e1909647",
   "metadata": {},
   "outputs": [],
   "source": [
    "import numpy as np"
   ]
  },
  {
   "cell_type": "code",
   "execution_count": 5,
   "id": "d6d2b619",
   "metadata": {},
   "outputs": [],
   "source": [
    "a = np.array([4,16,64])"
   ]
  },
  {
   "cell_type": "markdown",
   "id": "ceb70c25",
   "metadata": {},
   "source": [
    "## np.exp\n",
    "\n",
    "Dizideki x değerlerinin her biri için e^x değerini hesaplar."
   ]
  },
  {
   "cell_type": "code",
   "execution_count": 6,
   "id": "290442fb",
   "metadata": {},
   "outputs": [
    {
     "data": {
      "text/plain": [
       "array([5.45981500e+01, 8.88611052e+06, 6.23514908e+27])"
      ]
     },
     "execution_count": 6,
     "metadata": {},
     "output_type": "execute_result"
    }
   ],
   "source": [
    "np.exp(a)"
   ]
  },
  {
   "cell_type": "markdown",
   "id": "22ad66f3",
   "metadata": {},
   "source": [
    "## np.sqrt\n",
    "\n",
    "Dizideki tüm elementlerin karekökünü hesaplar."
   ]
  },
  {
   "cell_type": "code",
   "execution_count": 7,
   "id": "f6da5544",
   "metadata": {},
   "outputs": [
    {
     "data": {
      "text/plain": [
       "array([2., 4., 8.])"
      ]
     },
     "execution_count": 7,
     "metadata": {},
     "output_type": "execute_result"
    }
   ],
   "source": [
    "np.sqrt(a)"
   ]
  },
  {
   "cell_type": "markdown",
   "id": "ed26a29c",
   "metadata": {},
   "source": [
    "## np.log\n",
    "\n",
    "Dizideki tüm elementlerin e tabanında logaritmasını hesaplar."
   ]
  },
  {
   "cell_type": "code",
   "execution_count": 8,
   "id": "883e1aa8",
   "metadata": {},
   "outputs": [
    {
     "data": {
      "text/plain": [
       "array([1.38629436, 2.77258872, 4.15888308])"
      ]
     },
     "execution_count": 8,
     "metadata": {},
     "output_type": "execute_result"
    }
   ],
   "source": [
    "np.log(a)"
   ]
  },
  {
   "cell_type": "markdown",
   "id": "077be7c6",
   "metadata": {},
   "source": [
    "## np.cos\n",
    "\n",
    "Dizideki tüm elementlerin değerlerini radyan cinsinden kabul edip kosinüs değerini hesaplar."
   ]
  },
  {
   "cell_type": "code",
   "execution_count": 9,
   "id": "4101482d",
   "metadata": {},
   "outputs": [
    {
     "data": {
      "text/plain": [
       "array([-0.65364362, -0.95765948,  0.39185723])"
      ]
     },
     "execution_count": 9,
     "metadata": {},
     "output_type": "execute_result"
    }
   ],
   "source": [
    "np.cos(a)"
   ]
  },
  {
   "cell_type": "markdown",
   "id": "b103848c",
   "metadata": {},
   "source": [
    "## np.sin\n",
    "\n",
    "Dizideki tüm elementlerin değerlerini radyan cinsinden kabul edip sinüs değerini hesaplar."
   ]
  },
  {
   "cell_type": "code",
   "execution_count": 10,
   "id": "3f425e52",
   "metadata": {},
   "outputs": [
    {
     "data": {
      "text/plain": [
       "array([-0.7568025 , -0.28790332,  0.92002604])"
      ]
     },
     "execution_count": 10,
     "metadata": {},
     "output_type": "execute_result"
    }
   ],
   "source": [
    "np.sin(a)"
   ]
  }
 ],
 "metadata": {
  "kernelspec": {
   "display_name": "Python 3 (ipykernel)",
   "language": "python",
   "name": "python3"
  },
  "language_info": {
   "codemirror_mode": {
    "name": "ipython",
    "version": 3
   },
   "file_extension": ".py",
   "mimetype": "text/x-python",
   "name": "python",
   "nbconvert_exporter": "python",
   "pygments_lexer": "ipython3",
   "version": "3.9.12"
  }
 },
 "nbformat": 4,
 "nbformat_minor": 5
}
