{
 "cells": [
  {
   "cell_type": "markdown",
   "id": "0237daa3",
   "metadata": {},
   "source": [
    "## Numpy Veri Tipleri\n",
    "\n",
    "Bir Numpy dizisi homojen olmak zorundadır. Homojen tabirinden kasıt, dizi içndeki elementlerin veri tiplerinin aynı olması durumudur. Veri tipleri tamsayı, işaretsiz tamsayı, mantıksal ifade, ondalıklı sayı, karmaşık sayı olabilmektedir.\n",
    "\n",
    "Burada bu veri tiplerini açıklayacağım."
   ]
  },
  {
   "cell_type": "markdown",
   "id": "d482b0b8",
   "metadata": {},
   "source": [
    "### Tamsayılar\n",
    "\n",
    "Tam sayı verileri bu tip ile tutabiliriz. En sık kullanılan tamsayı formları int8, int16, int32, int64'tür. Bu formlar verinin değeri büyüdükçe kullanılır.\n",
    "\n",
    "Şimdi np.array kullanarak bir tamsayı verisi üretelim."
   ]
  },
  {
   "cell_type": "code",
   "execution_count": 4,
   "id": "25e25793",
   "metadata": {},
   "outputs": [],
   "source": [
    "import numpy as np\n",
    "\n",
    "# warning \n",
    "import warnings\n",
    "warnings.filterwarnings('ignore')"
   ]
  },
  {
   "cell_type": "code",
   "execution_count": 5,
   "id": "457f94d0",
   "metadata": {},
   "outputs": [
    {
     "data": {
      "text/plain": [
       "array([  1,   2, 300])"
      ]
     },
     "execution_count": 5,
     "metadata": {},
     "output_type": "execute_result"
    }
   ],
   "source": [
    "data = np.array([1,2,300], dtype=np.int)\n",
    "data"
   ]
  },
  {
   "cell_type": "markdown",
   "id": "354fed42",
   "metadata": {},
   "source": [
    "data isimli değişkenin veri tipine bakalım."
   ]
  },
  {
   "cell_type": "code",
   "execution_count": 7,
   "id": "ef1589ee",
   "metadata": {},
   "outputs": [
    {
     "data": {
      "text/plain": [
       "dtype('int32')"
      ]
     },
     "execution_count": 7,
     "metadata": {},
     "output_type": "execute_result"
    }
   ],
   "source": [
    "data.dtype"
   ]
  },
  {
   "cell_type": "markdown",
   "id": "bc4edaa5",
   "metadata": {},
   "source": [
    "### İşaretsiz Tamsayılar\n",
    "\n",
    "Eğer veri setinde negatif tamsayı içeren bir veri yoksa bu formatı kullanarak bilgisayardaki belleği daha etkili kullanabiliriz. En sık kullanılan işaretsiz tamsayı formları uint8, uint16, uint32, uint64. \n",
    "\n",
    "### Mantıksal İfadeler\n",
    "\n",
    "Eğer veri setinde True veya False gibi ifadeler var ise bu formatı kullanarak bilgisayardaki belleği daha etkili kullanabiliriz.\n",
    "\n",
    "np.array metodunun dtype parametresine np.bool ifadesini atayarak mantıksal bir dizi oluşturabiliriz. Bu işlemi gerçekleştirelim."
   ]
  },
  {
   "cell_type": "code",
   "execution_count": 8,
   "id": "fb959cad",
   "metadata": {},
   "outputs": [
    {
     "data": {
      "text/plain": [
       "array([ True, False,  True,  True])"
      ]
     },
     "execution_count": 8,
     "metadata": {},
     "output_type": "execute_result"
    }
   ],
   "source": [
    "data = np.array([-1,0,1,6], dtype=np.bool)\n",
    "data"
   ]
  },
  {
   "cell_type": "markdown",
   "id": "6daeacb5",
   "metadata": {},
   "source": [
    "0 rakamına False değeri verilir ve diğer rakamlara True değeri verilir. Çıktıda [-1,0,1,6] dizisine karşılık gelen mantıksal dizi görülmektedir.\n",
    "\n",
    "Şimdi data isimli mantıksal değerler içeren dizinin veri tipine bakalım."
   ]
  },
  {
   "cell_type": "code",
   "execution_count": 9,
   "id": "5df8c15d",
   "metadata": {},
   "outputs": [
    {
     "data": {
      "text/plain": [
       "dtype('bool')"
      ]
     },
     "execution_count": 9,
     "metadata": {},
     "output_type": "execute_result"
    }
   ],
   "source": [
    "data.dtype"
   ]
  },
  {
   "cell_type": "markdown",
   "id": "0e8a7707",
   "metadata": {},
   "source": [
    "### Ondalıklı Sayılar\n",
    "\n",
    "Eğer veri seti ondalıklı değerler içeriyorsa bu formatı kullanarak bilgisayardaki belleği daha etkili kullanabiliriz. En sık kullanılan işaretsiz tamsayı formları float16, float32, float64, float128'dir.\n",
    "\n",
    "np.array metodunun dtype parametresine np.float ifadesini atayarak ondalıklı bir dizi oluşturabiliriz. Bu işlemi gerçekleştirelim."
   ]
  },
  {
   "cell_type": "code",
   "execution_count": 10,
   "id": "22149239",
   "metadata": {},
   "outputs": [
    {
     "data": {
      "text/plain": [
       "array([10., 20., 30.])"
      ]
     },
     "execution_count": 10,
     "metadata": {},
     "output_type": "execute_result"
    }
   ],
   "source": [
    "data = np.array([10,20,30], dtype=np.float)\n",
    "data"
   ]
  },
  {
   "cell_type": "markdown",
   "id": "06c6c06f",
   "metadata": {},
   "source": [
    "Float tipine çevrim söz konusu olduğu için tamsayı değerlerin sonunda nokta bulunmaktadır.\n",
    "\n",
    "Şimdi dizinin veri tipine bakalım."
   ]
  },
  {
   "cell_type": "code",
   "execution_count": 11,
   "id": "95a05bf8",
   "metadata": {},
   "outputs": [
    {
     "data": {
      "text/plain": [
       "dtype('float64')"
      ]
     },
     "execution_count": 11,
     "metadata": {},
     "output_type": "execute_result"
    }
   ],
   "source": [
    "data.dtype"
   ]
  },
  {
   "cell_type": "markdown",
   "id": "fd576bbc",
   "metadata": {},
   "source": [
    "### Karmaşık Sayılar\n",
    "\n",
    "Eğer veri seti karmaşık sayılar içeriyorsa bu formatı kullanarak reel(real) ve imajiner(j,imag) kısımları rahatlıkla gerçekleştirebiliriz.\n",
    "\n",
    "np.array metodunun dtype parametresine np.complex ifadesini atayarak bir dizi oluşturabiliriz. Bu işlemi gerçekleştirelim."
   ]
  },
  {
   "cell_type": "code",
   "execution_count": 12,
   "id": "f0152cd2",
   "metadata": {},
   "outputs": [
    {
     "data": {
      "text/plain": [
       "array([-1.+0.j,  0.+0.j,  1.+0.j])"
      ]
     },
     "execution_count": 12,
     "metadata": {},
     "output_type": "execute_result"
    }
   ],
   "source": [
    "data = np. array([-1,0,1], dtype=np.complex)\n",
    "data"
   ]
  },
  {
   "cell_type": "markdown",
   "id": "b11fbfd1",
   "metadata": {},
   "source": [
    "Çıktıda görüldüğü üzere j değerlerini dizide belirtmediğimiz için j'nin katsayıları sıfır almıştır.\n",
    "\n",
    "Eğer reel kısım bir imajiner kısım içermiyorsa 0 katsayısı ile j (imajiner) kısmı eklenir.\n",
    "\n",
    "Şimdi dizinin veri tipine bakalım."
   ]
  },
  {
   "cell_type": "code",
   "execution_count": 13,
   "id": "4cad1743",
   "metadata": {},
   "outputs": [
    {
     "data": {
      "text/plain": [
       "dtype('complex128')"
      ]
     },
     "execution_count": 13,
     "metadata": {},
     "output_type": "execute_result"
    }
   ],
   "source": [
    "data.dtype"
   ]
  },
  {
   "cell_type": "markdown",
   "id": "46cdf79b",
   "metadata": {},
   "source": [
    "Dizide bulunan elemanların reel kısımlarını ekrana yazdıralım."
   ]
  },
  {
   "cell_type": "code",
   "execution_count": 14,
   "id": "2f4f5a36",
   "metadata": {},
   "outputs": [
    {
     "data": {
      "text/plain": [
       "array([-1.,  0.,  1.])"
      ]
     },
     "execution_count": 14,
     "metadata": {},
     "output_type": "execute_result"
    }
   ],
   "source": [
    "data.real"
   ]
  },
  {
   "cell_type": "markdown",
   "id": "80d4c933",
   "metadata": {},
   "source": [
    "Dizide bulunan elemanların imajiner kısımlarını ekrana yazdıralım."
   ]
  },
  {
   "cell_type": "code",
   "execution_count": 15,
   "id": "45cf143c",
   "metadata": {},
   "outputs": [
    {
     "data": {
      "text/plain": [
       "array([0., 0., 0.])"
      ]
     },
     "execution_count": 15,
     "metadata": {},
     "output_type": "execute_result"
    }
   ],
   "source": [
    "data.imag"
   ]
  }
 ],
 "metadata": {
  "kernelspec": {
   "display_name": "Python 3 (ipykernel)",
   "language": "python",
   "name": "python3"
  },
  "language_info": {
   "codemirror_mode": {
    "name": "ipython",
    "version": 3
   },
   "file_extension": ".py",
   "mimetype": "text/x-python",
   "name": "python",
   "nbconvert_exporter": "python",
   "pygments_lexer": "ipython3",
   "version": "3.9.12"
  }
 },
 "nbformat": 4,
 "nbformat_minor": 5
}
