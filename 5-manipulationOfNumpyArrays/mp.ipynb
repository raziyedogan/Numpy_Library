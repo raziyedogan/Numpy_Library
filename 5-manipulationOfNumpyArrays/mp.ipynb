{
 "cells": [
  {
   "cell_type": "markdown",
   "id": "35d439d6",
   "metadata": {},
   "source": [
    "# Numpy Dizilerinin Manipülasyonu\n",
    "\n",
    "Verilerle çalışırken, numpy dizilerini yeniden düzenlemek, şeklini değiştirmek önemlidir. Numpy kütüphanesi bu manipülasyon için bir takım metotlar barındırır. \n",
    "\n",
    "<font color=\"Chocolate\"><br>\n",
    "Burada anlatacağım metotlar şu şekildedir:\n",
    "<font color=\"CadetBlue\"><br>\n",
    "np.append\n",
    "<font color=\"CadetBlue\"><br>\n",
    "np.delete\n",
    "<font color=\"CadetBlue\"><br>\n",
    "np.ndarray.transpose\n",
    "<font color=\"CadetBlue\"><br>\n",
    "np.ndarray.reshape\n",
    "<font color=\"CadetBlue\"><br>\n",
    "np.ndarray.flatten\n",
    "<font color=\"CadetBlue\"><br>\n",
    "np.concatenate\n",
    "<font color=\"CadetBlue\"><br>\n",
    "np.vstack\n",
    "<font color=\"CadetBlue\"><br>\n",
    "np.hstack"
   ]
  },
  {
   "cell_type": "markdown",
   "id": "365b8a34",
   "metadata": {},
   "source": [
    "## np.append\n",
    "\n",
    "Numpy dizisine eleman eklemek için bu metottan yardım alınabilir.\n",
    "\n",
    "Şimdi bir dizi oluşturalım ve append metodu ile diziye eleman ekleyelim."
   ]
  },
  {
   "cell_type": "code",
   "execution_count": 1,
   "id": "0dfe45a1",
   "metadata": {},
   "outputs": [],
   "source": [
    "import numpy as np"
   ]
  },
  {
   "cell_type": "code",
   "execution_count": 2,
   "id": "f1b184a0",
   "metadata": {},
   "outputs": [],
   "source": [
    "data = np.array([1,2,3])"
   ]
  },
  {
   "cell_type": "code",
   "execution_count": 3,
   "id": "73954cb7",
   "metadata": {},
   "outputs": [
    {
     "data": {
      "text/plain": [
       "array([1, 2, 3])"
      ]
     },
     "execution_count": 3,
     "metadata": {},
     "output_type": "execute_result"
    }
   ],
   "source": [
    "data"
   ]
  },
  {
   "cell_type": "markdown",
   "id": "19a53a8b",
   "metadata": {},
   "source": [
    "np.append metodu ile data isimli diziye 4,5 ve 6 değerlerini ekleyelim."
   ]
  },
  {
   "cell_type": "code",
   "execution_count": 4,
   "id": "874b207d",
   "metadata": {},
   "outputs": [],
   "source": [
    "new_data = np.append(data,[4,5,6])"
   ]
  },
  {
   "cell_type": "code",
   "execution_count": 5,
   "id": "1c9f72c8",
   "metadata": {},
   "outputs": [
    {
     "data": {
      "text/plain": [
       "array([1, 2, 3, 4, 5, 6])"
      ]
     },
     "execution_count": 5,
     "metadata": {},
     "output_type": "execute_result"
    }
   ],
   "source": [
    "new_data"
   ]
  },
  {
   "cell_type": "markdown",
   "id": "8e8a5bf9",
   "metadata": {},
   "source": [
    "## np.delete\n",
    "\n",
    "Numpy dizisindeki belirli bir konumdaki elemanı indeks bilgisi ile siler.\n",
    "\n",
    "data isimli dizi içerisinden 0.indeksteki elemanı silelim."
   ]
  },
  {
   "cell_type": "code",
   "execution_count": 8,
   "id": "70570b6a",
   "metadata": {},
   "outputs": [
    {
     "data": {
      "text/plain": [
       "array([1, 2, 3])"
      ]
     },
     "execution_count": 8,
     "metadata": {},
     "output_type": "execute_result"
    }
   ],
   "source": [
    "data"
   ]
  },
  {
   "cell_type": "code",
   "execution_count": 6,
   "id": "c926e289",
   "metadata": {},
   "outputs": [],
   "source": [
    "new_data = np.delete(data,0)"
   ]
  },
  {
   "cell_type": "code",
   "execution_count": 7,
   "id": "98a15651",
   "metadata": {},
   "outputs": [
    {
     "data": {
      "text/plain": [
       "array([2, 3])"
      ]
     },
     "execution_count": 7,
     "metadata": {},
     "output_type": "execute_result"
    }
   ],
   "source": [
    "new_data"
   ]
  },
  {
   "cell_type": "markdown",
   "id": "946862dd",
   "metadata": {},
   "source": [
    "## np.ndarray.transpose\n",
    "\n",
    "Numpy dizisinin transpozunu almamızı sağlar.\n",
    "\n",
    "2 satır ve 3 sütundan oluşan bir numpy dizisi oluşturalım. Sonrasında bu dizinin transpozunu alalım."
   ]
  },
  {
   "cell_type": "code",
   "execution_count": 9,
   "id": "e7ebd5fb",
   "metadata": {},
   "outputs": [
    {
     "data": {
      "text/plain": [
       "array([[1, 2, 3],\n",
       "       [4, 5, 6]])"
      ]
     },
     "execution_count": 9,
     "metadata": {},
     "output_type": "execute_result"
    }
   ],
   "source": [
    "data = np.array([[1,2,3],[4,5,6]])\n",
    "data"
   ]
  },
  {
   "cell_type": "code",
   "execution_count": 10,
   "id": "4735cac1",
   "metadata": {},
   "outputs": [
    {
     "data": {
      "text/plain": [
       "(2, 3)"
      ]
     },
     "execution_count": 10,
     "metadata": {},
     "output_type": "execute_result"
    }
   ],
   "source": [
    "data.shape"
   ]
  },
  {
   "cell_type": "code",
   "execution_count": 11,
   "id": "db566f2f",
   "metadata": {},
   "outputs": [
    {
     "data": {
      "text/plain": [
       "array([[1, 4],\n",
       "       [2, 5],\n",
       "       [3, 6]])"
      ]
     },
     "execution_count": 11,
     "metadata": {},
     "output_type": "execute_result"
    }
   ],
   "source": [
    "new_data = np.ndarray.transpose(data)\n",
    "new_data"
   ]
  },
  {
   "cell_type": "code",
   "execution_count": 12,
   "id": "aef9e936",
   "metadata": {},
   "outputs": [
    {
     "data": {
      "text/plain": [
       "(3, 2)"
      ]
     },
     "execution_count": 12,
     "metadata": {},
     "output_type": "execute_result"
    }
   ],
   "source": [
    "new_data.shape"
   ]
  },
  {
   "cell_type": "markdown",
   "id": "ec65046a",
   "metadata": {},
   "source": [
    "## np.ndarray.reshape\n",
    "\n",
    "Dizinin satır ve sütun sayısını değiştirmek istersek bu metodu kullanabiliriz."
   ]
  },
  {
   "cell_type": "code",
   "execution_count": 15,
   "id": "38eb0d4e",
   "metadata": {},
   "outputs": [
    {
     "data": {
      "text/plain": [
       "array([[1, 2, 3, 4, 5, 6]])"
      ]
     },
     "execution_count": 15,
     "metadata": {},
     "output_type": "execute_result"
    }
   ],
   "source": [
    "data = np.array([[1,2,3,4,5,6]])\n",
    "data"
   ]
  },
  {
   "cell_type": "code",
   "execution_count": 16,
   "id": "7e1e2323",
   "metadata": {},
   "outputs": [
    {
     "data": {
      "text/plain": [
       "(1, 6)"
      ]
     },
     "execution_count": 16,
     "metadata": {},
     "output_type": "execute_result"
    }
   ],
   "source": [
    "data.shape"
   ]
  },
  {
   "cell_type": "markdown",
   "id": "f1874d27",
   "metadata": {},
   "source": [
    "Görüldüğü üzere oluşturduğumuz dizi 1 satır 6 sütundan oluşmaktadır."
   ]
  },
  {
   "cell_type": "markdown",
   "id": "9bf505a8",
   "metadata": {},
   "source": [
    "Şimdi data dizisini 2 satır ve 3 sütundan oluşacak şekilde yeniden şekillendirelim."
   ]
  },
  {
   "cell_type": "code",
   "execution_count": 18,
   "id": "dc84e1fb",
   "metadata": {},
   "outputs": [
    {
     "data": {
      "text/plain": [
       "array([[1, 2, 3],\n",
       "       [4, 5, 6]])"
      ]
     },
     "execution_count": 18,
     "metadata": {},
     "output_type": "execute_result"
    }
   ],
   "source": [
    "new_data = np.ndarray.reshape(data,(2,3))\n",
    "new_data"
   ]
  },
  {
   "cell_type": "code",
   "execution_count": 19,
   "id": "0b477ba8",
   "metadata": {},
   "outputs": [
    {
     "data": {
      "text/plain": [
       "(2, 3)"
      ]
     },
     "execution_count": 19,
     "metadata": {},
     "output_type": "execute_result"
    }
   ],
   "source": [
    "new_data.shape"
   ]
  },
  {
   "cell_type": "markdown",
   "id": "b3efa5d9",
   "metadata": {},
   "source": [
    "Görüldüğü üzere 2 satır ve 3 sütundan oluşacak şekilde şekil almıştır."
   ]
  },
  {
   "cell_type": "markdown",
   "id": "d3a1d1a0",
   "metadata": {},
   "source": [
    "## np.ndarray.flatten\n",
    "\n",
    "np.ndarray.flatten, np.ndarray.rehsape fonksiyonunun özel bir halidir. Dizinin tek boyuta indirgenmesini sağlar."
   ]
  },
  {
   "cell_type": "code",
   "execution_count": 20,
   "id": "b4ec1ce2",
   "metadata": {},
   "outputs": [
    {
     "data": {
      "text/plain": [
       "array([[1, 2],\n",
       "       [3, 4]])"
      ]
     },
     "execution_count": 20,
     "metadata": {},
     "output_type": "execute_result"
    }
   ],
   "source": [
    "data = np.array([[1,2],[3,4]])\n",
    "data"
   ]
  },
  {
   "cell_type": "code",
   "execution_count": 22,
   "id": "4a4dfa7b",
   "metadata": {},
   "outputs": [
    {
     "data": {
      "text/plain": [
       "(2, 2)"
      ]
     },
     "execution_count": 22,
     "metadata": {},
     "output_type": "execute_result"
    }
   ],
   "source": [
    "data.shape"
   ]
  },
  {
   "cell_type": "code",
   "execution_count": 21,
   "id": "fc4ed43c",
   "metadata": {},
   "outputs": [
    {
     "data": {
      "text/plain": [
       "array([1, 2, 3, 4])"
      ]
     },
     "execution_count": 21,
     "metadata": {},
     "output_type": "execute_result"
    }
   ],
   "source": [
    "new_data = np.ndarray.flatten(data)\n",
    "new_data"
   ]
  },
  {
   "cell_type": "code",
   "execution_count": 23,
   "id": "2a2f81b5",
   "metadata": {},
   "outputs": [
    {
     "data": {
      "text/plain": [
       "(4,)"
      ]
     },
     "execution_count": 23,
     "metadata": {},
     "output_type": "execute_result"
    }
   ],
   "source": [
    "new_data.shape"
   ]
  },
  {
   "cell_type": "markdown",
   "id": "b46e4c08",
   "metadata": {},
   "source": [
    "Görüldüğü üzere veri tek boyuta indirgenmiştir."
   ]
  },
  {
   "cell_type": "markdown",
   "id": "fc377e3e",
   "metadata": {},
   "source": [
    "## np.concatenate\n",
    "\n",
    "Belirli bir eksen boyunca dizileri birbiri ardına ekleyerek yeni bir numpy dizisi oluşturur."
   ]
  },
  {
   "cell_type": "code",
   "execution_count": 24,
   "id": "18d85fa9",
   "metadata": {},
   "outputs": [],
   "source": [
    "a = np.array([[1,2],[3,4]])"
   ]
  },
  {
   "cell_type": "code",
   "execution_count": 25,
   "id": "bf2c9dcc",
   "metadata": {},
   "outputs": [
    {
     "data": {
      "text/plain": [
       "array([[1, 2],\n",
       "       [3, 4]])"
      ]
     },
     "execution_count": 25,
     "metadata": {},
     "output_type": "execute_result"
    }
   ],
   "source": [
    "a"
   ]
  },
  {
   "cell_type": "code",
   "execution_count": 26,
   "id": "9f5649e5",
   "metadata": {},
   "outputs": [],
   "source": [
    "b = np.array([[5,6],[7,8]])"
   ]
  },
  {
   "cell_type": "code",
   "execution_count": 27,
   "id": "04035965",
   "metadata": {},
   "outputs": [
    {
     "data": {
      "text/plain": [
       "array([[5, 6],\n",
       "       [7, 8]])"
      ]
     },
     "execution_count": 27,
     "metadata": {},
     "output_type": "execute_result"
    }
   ],
   "source": [
    "b"
   ]
  },
  {
   "cell_type": "markdown",
   "id": "c49e9c17",
   "metadata": {},
   "source": [
    "np.concatenate metodu ile a ve b isimli dizileri alt alta birleştirelim."
   ]
  },
  {
   "cell_type": "code",
   "execution_count": 28,
   "id": "e82ee770",
   "metadata": {},
   "outputs": [
    {
     "data": {
      "text/plain": [
       "array([[1, 2],\n",
       "       [3, 4],\n",
       "       [5, 6],\n",
       "       [7, 8]])"
      ]
     },
     "execution_count": 28,
     "metadata": {},
     "output_type": "execute_result"
    }
   ],
   "source": [
    "c = np.concatenate((a,b),axis=0)\n",
    "c"
   ]
  },
  {
   "cell_type": "markdown",
   "id": "4f475712",
   "metadata": {},
   "source": [
    "np.concatenate metodu ile a ve b isimli dizileri yan yana birleştirelim."
   ]
  },
  {
   "cell_type": "code",
   "execution_count": 29,
   "id": "f76b1b69",
   "metadata": {},
   "outputs": [
    {
     "data": {
      "text/plain": [
       "array([[1, 2, 5, 6],\n",
       "       [3, 4, 7, 8]])"
      ]
     },
     "execution_count": 29,
     "metadata": {},
     "output_type": "execute_result"
    }
   ],
   "source": [
    "d = np.concatenate((a,b),axis=1)\n",
    "d"
   ]
  },
  {
   "cell_type": "markdown",
   "id": "0e83131d",
   "metadata": {},
   "source": [
    "## np.vstack\n",
    "\n",
    "Dİkey olarak numpy dizilerini yığınlar. Yani dizilerin alt alta birleştirilmesini sağlar. "
   ]
  },
  {
   "cell_type": "code",
   "execution_count": 30,
   "id": "60599791",
   "metadata": {},
   "outputs": [
    {
     "data": {
      "text/plain": [
       "array([1, 2, 3])"
      ]
     },
     "execution_count": 30,
     "metadata": {},
     "output_type": "execute_result"
    }
   ],
   "source": [
    "a = np.array([1,2,3])\n",
    "a"
   ]
  },
  {
   "cell_type": "code",
   "execution_count": 31,
   "id": "50e1bf77",
   "metadata": {},
   "outputs": [
    {
     "data": {
      "text/plain": [
       "array([10, 20, 30])"
      ]
     },
     "execution_count": 31,
     "metadata": {},
     "output_type": "execute_result"
    }
   ],
   "source": [
    "b = np.array([10,20,30])\n",
    "b"
   ]
  },
  {
   "cell_type": "code",
   "execution_count": 32,
   "id": "d8cd3f5d",
   "metadata": {},
   "outputs": [],
   "source": [
    "c = np.vstack((a,b))"
   ]
  },
  {
   "cell_type": "code",
   "execution_count": 33,
   "id": "9958a2d2",
   "metadata": {},
   "outputs": [
    {
     "data": {
      "text/plain": [
       "array([[ 1,  2,  3],\n",
       "       [10, 20, 30]])"
      ]
     },
     "execution_count": 33,
     "metadata": {},
     "output_type": "execute_result"
    }
   ],
   "source": [
    "c"
   ]
  },
  {
   "cell_type": "markdown",
   "id": "a9a9d545",
   "metadata": {},
   "source": [
    "## np.hstack\n",
    "\n",
    "Yatay olarak numpy dizilerini yığınlar. Yani dizilerin yan yana birleştirilmesini sağlar. "
   ]
  },
  {
   "cell_type": "code",
   "execution_count": 34,
   "id": "0d03ed92",
   "metadata": {},
   "outputs": [
    {
     "data": {
      "text/plain": [
       "array([1, 2, 3])"
      ]
     },
     "execution_count": 34,
     "metadata": {},
     "output_type": "execute_result"
    }
   ],
   "source": [
    "a = np.array([1,2,3])\n",
    "a"
   ]
  },
  {
   "cell_type": "code",
   "execution_count": 35,
   "id": "a99dde24",
   "metadata": {},
   "outputs": [
    {
     "data": {
      "text/plain": [
       "array([10, 20, 30])"
      ]
     },
     "execution_count": 35,
     "metadata": {},
     "output_type": "execute_result"
    }
   ],
   "source": [
    "b = np.array([10,20,30])\n",
    "b"
   ]
  },
  {
   "cell_type": "code",
   "execution_count": 36,
   "id": "538fdfab",
   "metadata": {},
   "outputs": [],
   "source": [
    "c = np.hstack((a,b))"
   ]
  },
  {
   "cell_type": "code",
   "execution_count": 37,
   "id": "206dd939",
   "metadata": {},
   "outputs": [
    {
     "data": {
      "text/plain": [
       "array([ 1,  2,  3, 10, 20, 30])"
      ]
     },
     "execution_count": 37,
     "metadata": {},
     "output_type": "execute_result"
    }
   ],
   "source": [
    "c"
   ]
  }
 ],
 "metadata": {
  "kernelspec": {
   "display_name": "Python 3 (ipykernel)",
   "language": "python",
   "name": "python3"
  },
  "language_info": {
   "codemirror_mode": {
    "name": "ipython",
    "version": 3
   },
   "file_extension": ".py",
   "mimetype": "text/x-python",
   "name": "python",
   "nbconvert_exporter": "python",
   "pygments_lexer": "ipython3",
   "version": "3.9.12"
  }
 },
 "nbformat": 4,
 "nbformat_minor": 5
}
