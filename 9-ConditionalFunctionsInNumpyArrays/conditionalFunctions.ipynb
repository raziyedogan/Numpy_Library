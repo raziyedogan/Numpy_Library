{
 "cells": [
  {
   "cell_type": "markdown",
   "id": "25a0c230",
   "metadata": {},
   "source": [
    "# Numpy Dizilerinde Koşullu Fonksiyonlar\n",
    "\n",
    "Veri dünyasında önemli olan diğer konular ise verileri seçmek ve yönetmektir. Bu noktada numpy kütüphanesinin koşullu fonksiyonları büyük kolaylıklar sağlıyor.\n",
    "\n",
    "<font color=\"Crimson\"><br>\n",
    "Bu kısımda şu metotları açıklayacağım:\n",
    "<br><font color=\"BurlyWood\"><br>\n",
    "np.argwhere\n",
    "<font color=\"BurlyWood\"><br>    \n",
    "np.where\n",
    "<font color=\"BurlyWood\"><br>    \n",
    "np.select"
   ]
  },
  {
   "cell_type": "code",
   "execution_count": 1,
   "id": "88a8353c",
   "metadata": {},
   "outputs": [],
   "source": [
    "import numpy as np"
   ]
  },
  {
   "cell_type": "code",
   "execution_count": 2,
   "id": "b422b9c0",
   "metadata": {},
   "outputs": [],
   "source": [
    "a = np.array([[2,4,6],[20,40,60]])"
   ]
  },
  {
   "cell_type": "code",
   "execution_count": 3,
   "id": "c73c6969",
   "metadata": {},
   "outputs": [],
   "source": [
    "b = np.array([[1,3,5],[10,30,50]])"
   ]
  },
  {
   "cell_type": "markdown",
   "id": "6721d902",
   "metadata": {},
   "source": [
    "## np.argwhere\n",
    "\n",
    "Bu fonksiyon koşulu sağlayan değerlerin indeksini verir.\n",
    "\n",
    "b dizisinde 15'ten büyük değerlerin indekslerine erişelim."
   ]
  },
  {
   "cell_type": "code",
   "execution_count": 4,
   "id": "35e72cbc",
   "metadata": {},
   "outputs": [
    {
     "data": {
      "text/plain": [
       "array([[1, 1],\n",
       "       [1, 2]], dtype=int64)"
      ]
     },
     "execution_count": 4,
     "metadata": {},
     "output_type": "execute_result"
    }
   ],
   "source": [
    "np.argwhere(b>15)"
   ]
  },
  {
   "cell_type": "markdown",
   "id": "9ed4ac56",
   "metadata": {},
   "source": [
    "## np.where\n",
    "\n",
    "Bir koşul dizisinin değerine bağlı olarak iki diziden değerleri seçer.\n",
    "\n",
    "Fonksiyonun ilk parametresi koşul, ikinci parametresi koşul doğru olduğunda verinin çekileceği dizi/değer ve son parametresi koşul yanlış olduğunda verinin çekileceği dizi/değer.\n",
    "\n",
    "a dizisinde 5'ten küçük olan değerleri 0 değeri ile değiştirelim. "
   ]
  },
  {
   "cell_type": "code",
   "execution_count": 6,
   "id": "ce5bb302",
   "metadata": {},
   "outputs": [
    {
     "data": {
      "text/plain": [
       "array([[ 0,  0,  6],\n",
       "       [20, 40, 60]])"
      ]
     },
     "execution_count": 6,
     "metadata": {},
     "output_type": "execute_result"
    }
   ],
   "source": [
    "np.where(a<5,0,a)"
   ]
  },
  {
   "cell_type": "markdown",
   "id": "d935bad6",
   "metadata": {},
   "source": [
    "a verisinin 4'e tam bölünen değerlerini b verisindeki aynı konumundaki değeri ile doldurulmasını yapalım."
   ]
  },
  {
   "cell_type": "code",
   "execution_count": 7,
   "id": "2e5e6842",
   "metadata": {},
   "outputs": [
    {
     "data": {
      "text/plain": [
       "array([[ 2,  3,  6],\n",
       "       [10, 30, 50]])"
      ]
     },
     "execution_count": 7,
     "metadata": {},
     "output_type": "execute_result"
    }
   ],
   "source": [
    "np.where(a%4==0,b,a)"
   ]
  },
  {
   "cell_type": "markdown",
   "id": "f61cb51a",
   "metadata": {},
   "source": [
    "## np.select\n",
    "\n",
    "Bu fonksiyonun np.where'den farkı, birden fazla koşulu işleyebilmesidir. Koşullar listesine bağlı olarak bir dizi listesinden değerleri seçer.\n",
    "\n",
    "a dizisindeki elemanların 5'ten küçük olması durumunda 44 değerini alırken, 10'dan büyük olması durumunda değeri b dizisinden alan kodu yazalım."
   ]
  },
  {
   "cell_type": "code",
   "execution_count": 8,
   "id": "f4b35890",
   "metadata": {},
   "outputs": [],
   "source": [
    "sartlar = [a<5,a>10]"
   ]
  },
  {
   "cell_type": "markdown",
   "id": "4cb3adf3",
   "metadata": {},
   "source": [
    "sartlar değişkenini oluşturma sebebim, durumlar adlı değişkendeki değerler, sartlar adlı değişkendeki koşulları sağladaığında sırasıyla hangi değerlerin geleceğini belirlemek içindir."
   ]
  },
  {
   "cell_type": "code",
   "execution_count": 9,
   "id": "37221052",
   "metadata": {},
   "outputs": [],
   "source": [
    "durumlar = [44,b]"
   ]
  },
  {
   "cell_type": "markdown",
   "id": "f00ce691",
   "metadata": {},
   "source": [
    "Şartlarımızı ve bu şartlar sağlandığında gelen değerler ile oluşan diziye bakalım."
   ]
  },
  {
   "cell_type": "code",
   "execution_count": 10,
   "id": "29fecc84",
   "metadata": {},
   "outputs": [
    {
     "data": {
      "text/plain": [
       "array([[44, 44,  0],\n",
       "       [10, 30, 50]])"
      ]
     },
     "execution_count": 10,
     "metadata": {},
     "output_type": "execute_result"
    }
   ],
   "source": [
    "np.select(sartlar,durumlar)"
   ]
  }
 ],
 "metadata": {
  "kernelspec": {
   "display_name": "Python 3 (ipykernel)",
   "language": "python",
   "name": "python3"
  },
  "language_info": {
   "codemirror_mode": {
    "name": "ipython",
    "version": 3
   },
   "file_extension": ".py",
   "mimetype": "text/x-python",
   "name": "python",
   "nbconvert_exporter": "python",
   "pygments_lexer": "ipython3",
   "version": "3.9.12"
  }
 },
 "nbformat": 4,
 "nbformat_minor": 5
}
