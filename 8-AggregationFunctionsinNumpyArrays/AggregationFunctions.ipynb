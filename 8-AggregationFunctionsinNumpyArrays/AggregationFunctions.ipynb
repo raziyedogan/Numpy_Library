{
 "cells": [
  {
   "cell_type": "markdown",
   "id": "f2a4c480",
   "metadata": {},
   "source": [
    "# Numpy Dizilerinde Toplama Fonksiyonları\n",
    "\n",
    "Bu fonksiyonlar girdi dizisindeki değerlerin ortalamasını, standart sapmasını, varyansını, toplamını, en küçük ve en büyük elemanı bulmak gibi hesaplamalar yaparlar.\n",
    "\n",
    "<font color=\"DodgerBlue\"><br>\n",
    "Bu kısımda anlatacağım metotlar şu şekildedir:\n",
    "<font color=\"Chocolate\"><br>\n",
    "np.min\n",
    "<font color=\"Chocolate\"><br>\n",
    "np.argmin\n",
    "<font color=\"Chocolate\"><br>\n",
    "np.max\n",
    "<font color=\"Chocolate\"><br>\n",
    "np.argmax\n",
    "<font color=\"Chocolate\"><br>\n",
    "np.mean\n",
    "<font color=\"Chocolate\"><br>\n",
    "np.std\n",
    "<font color=\"Chocolate\"><br>\n",
    "np.var"
   ]
  },
  {
   "cell_type": "code",
   "execution_count": 1,
   "id": "59211c61",
   "metadata": {},
   "outputs": [],
   "source": [
    "import numpy as np"
   ]
  },
  {
   "cell_type": "code",
   "execution_count": 2,
   "id": "5f7ff2e3",
   "metadata": {},
   "outputs": [],
   "source": [
    "a = np.array([1,2,3])"
   ]
  },
  {
   "cell_type": "markdown",
   "id": "498368db",
   "metadata": {},
   "source": [
    "## np.min\n",
    "\n",
    "Numpy dizisindeki en küçük değeri döndürür."
   ]
  },
  {
   "cell_type": "code",
   "execution_count": 3,
   "id": "09a78092",
   "metadata": {},
   "outputs": [
    {
     "data": {
      "text/plain": [
       "1"
      ]
     },
     "execution_count": 3,
     "metadata": {},
     "output_type": "execute_result"
    }
   ],
   "source": [
    "np.min(a)"
   ]
  },
  {
   "cell_type": "markdown",
   "id": "14ba2926",
   "metadata": {},
   "source": [
    "## np.argmin\n",
    "\n",
    "Numpy dizisindeki en küçük değerin indeksini döndürür."
   ]
  },
  {
   "cell_type": "code",
   "execution_count": 4,
   "id": "54cd1e86",
   "metadata": {},
   "outputs": [
    {
     "data": {
      "text/plain": [
       "0"
      ]
     },
     "execution_count": 4,
     "metadata": {},
     "output_type": "execute_result"
    }
   ],
   "source": [
    "np.argmin(a)"
   ]
  },
  {
   "cell_type": "markdown",
   "id": "065b8854",
   "metadata": {},
   "source": [
    "## np.max\n",
    "\n",
    "Numpy dizisindeki en büyük değeri döndürür."
   ]
  },
  {
   "cell_type": "code",
   "execution_count": 5,
   "id": "be1e93d8",
   "metadata": {},
   "outputs": [
    {
     "data": {
      "text/plain": [
       "3"
      ]
     },
     "execution_count": 5,
     "metadata": {},
     "output_type": "execute_result"
    }
   ],
   "source": [
    "np.max(a)"
   ]
  },
  {
   "cell_type": "markdown",
   "id": "33565ab7",
   "metadata": {},
   "source": [
    "## np.argmax\n",
    "\n",
    "Numpy dizisindeki en büyük değerin indeksini döndürür."
   ]
  },
  {
   "cell_type": "code",
   "execution_count": 6,
   "id": "96206de4",
   "metadata": {},
   "outputs": [
    {
     "data": {
      "text/plain": [
       "2"
      ]
     },
     "execution_count": 6,
     "metadata": {},
     "output_type": "execute_result"
    }
   ],
   "source": [
    "np.argmax(a)"
   ]
  },
  {
   "cell_type": "markdown",
   "id": "c7d0dcd0",
   "metadata": {},
   "source": [
    "## np.mean\n",
    "\n",
    "Numpy dizisinin ortalamasını döndürür."
   ]
  },
  {
   "cell_type": "code",
   "execution_count": 7,
   "id": "9d6ab84c",
   "metadata": {},
   "outputs": [
    {
     "data": {
      "text/plain": [
       "2.0"
      ]
     },
     "execution_count": 7,
     "metadata": {},
     "output_type": "execute_result"
    }
   ],
   "source": [
    "np.mean(a)"
   ]
  },
  {
   "cell_type": "markdown",
   "id": "3fd3a660",
   "metadata": {},
   "source": [
    "## np.std\n",
    "\n",
    "Numpy dizisinin standart sapmasını döndürür."
   ]
  },
  {
   "cell_type": "code",
   "execution_count": 8,
   "id": "8754cb91",
   "metadata": {},
   "outputs": [
    {
     "data": {
      "text/plain": [
       "0.816496580927726"
      ]
     },
     "execution_count": 8,
     "metadata": {},
     "output_type": "execute_result"
    }
   ],
   "source": [
    "np.std(a)"
   ]
  },
  {
   "cell_type": "markdown",
   "id": "716b606c",
   "metadata": {},
   "source": [
    "## np.var\n",
    "\n",
    "Numpy dizisinin varyansını verir."
   ]
  },
  {
   "cell_type": "code",
   "execution_count": 9,
   "id": "dcebe65b",
   "metadata": {},
   "outputs": [
    {
     "data": {
      "text/plain": [
       "0.6666666666666666"
      ]
     },
     "execution_count": 9,
     "metadata": {},
     "output_type": "execute_result"
    }
   ],
   "source": [
    "np.var(a)"
   ]
  }
 ],
 "metadata": {
  "kernelspec": {
   "display_name": "Python 3 (ipykernel)",
   "language": "python",
   "name": "python3"
  },
  "language_info": {
   "codemirror_mode": {
    "name": "ipython",
    "version": 3
   },
   "file_extension": ".py",
   "mimetype": "text/x-python",
   "name": "python",
   "nbconvert_exporter": "python",
   "pygments_lexer": "ipython3",
   "version": "3.9.12"
  }
 },
 "nbformat": 4,
 "nbformat_minor": 5
}
