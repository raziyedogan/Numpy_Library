{
 "cells": [
  {
   "cell_type": "markdown",
   "id": "3beacdc6",
   "metadata": {},
   "source": [
    "## Numpy Kütüphanesi Nedir?\n",
    "\n",
    "Numpy, Python ile sayısal hesaplamaların kolaylıkla gerçekleştirilebilmesini amaçlayan açık kaynaklı bir projedir.\n",
    "\n",
    "NumPy,Python programlama dili için büyük, çok boyutlu dizileri ve matrisleri destekleyen, bu diziler üzerinde çalışacak üst düzey matematiksel işlevler ekleyen bir kütüphanedir.\n",
    "\n",
    "Numpy çok boyutlu bir dizi ve matris veri yapıları içerir. Trigonometrik, istatistiksel ve cebirsel rutinler gibi diziler üzerinde matematiksel işlemler gerçkeleştirmek için kullanılabilir. Bu nedenle, kütüphane bir çok matematiksel, cebirsel ve dönüşüm fonksiyonları içerir.\n",
    "\n",
    "<font color=\"Crimson\"><br>\n",
    "Bu kısımda açıklananlar şu şekildedir:\n",
    "<br ><font color=\"CornflowerBlue\"><br>\n",
    "    Numpy kütüphanesinin çağrılması\n",
    "<br><font color=\"CornflowerBlue\"><br>\n",
    "    Numpy sürümüne erişim\n",
    "<font color=\"CornflowerBlue\"><br>   \n",
    "    ndarray sınıfından bir dizi oluşturma (np.array)\n",
    "<br><font color=\"CornflowerBlue\"><br>\n",
    "    Nesnenin tipini öğrenme (type())\n",
    "<font color=\"CornflowerBlue\"><br>    \n",
    "    Nesnenin kaç boyutlu olduğunu öğrenme (nesne.ndim)\n",
    "<font color=\"CornflowerBlue\"><br>    \n",
    "    Nesnenin boyutlarının uzunluğunu öğrenme (nesne.shape)\n",
    "<font color=\"CornflowerBlue\"><br>    \n",
    "    Nesnenin içerdiği elementlerin tipini öğrenme (nesne.dtype)"
   ]
  },
  {
   "cell_type": "markdown",
   "id": "123dc87b",
   "metadata": {},
   "source": [
    "Haydi başlayalım.\n",
    "\n",
    "Öncelikle numpy kütüphanesini kullanabilmek için kütüphaneyi çağırmalıyız. Bunun için \"import\" anahtar kelimesinden yararlanırız. Çağırma işleminde kütüphane ismini kullanmak istemez isek, \"as\" anahtar kelimesi ile kütüphaneye bir takma ad takabiliriz ve belirlediğimiz takma ad ile kütüphaneyi çağırarak gerekli metotları kullanabiliriz. "
   ]
  },
  {
   "cell_type": "code",
   "execution_count": 1,
   "id": "26421e77",
   "metadata": {},
   "outputs": [],
   "source": [
    "import numpy as np"
   ]
  },
  {
   "cell_type": "markdown",
   "id": "ba258f3b",
   "metadata": {},
   "source": [
    "Numpy sürümü ve yapılandırmasını öğrenmek için aşağıdaki kod satırını kullanabiliriz."
   ]
  },
  {
   "cell_type": "code",
   "execution_count": 2,
   "id": "56e7ef32",
   "metadata": {},
   "outputs": [
    {
     "data": {
      "text/plain": [
       "'1.23.1'"
      ]
     },
     "execution_count": 2,
     "metadata": {},
     "output_type": "execute_result"
    }
   ],
   "source": [
    "np.__version__"
   ]
  },
  {
   "cell_type": "markdown",
   "id": "66b9f990",
   "metadata": {},
   "source": [
    "Çıktıdan anlaşılacağı üzere numpy kütüphanesinin 1.23.1 versiyonu yüklüdür."
   ]
  },
  {
   "cell_type": "markdown",
   "id": "d0aadc82",
   "metadata": {},
   "source": [
    "ndarray sınıfından bir dizi oluşturabilmek için aşağıdaki kod satırını çalıştıralım."
   ]
  },
  {
   "cell_type": "code",
   "execution_count": 3,
   "id": "f14c7d53",
   "metadata": {},
   "outputs": [],
   "source": [
    "array = np.array([ [1,2,3], [4,5,6] ])"
   ]
  },
  {
   "cell_type": "markdown",
   "id": "298529fe",
   "metadata": {},
   "source": [
    "Oluşturduğumuz array'i ekrana yazdıralım."
   ]
  },
  {
   "cell_type": "code",
   "execution_count": 4,
   "id": "ba0100a3",
   "metadata": {},
   "outputs": [
    {
     "data": {
      "text/plain": [
       "array([[1, 2, 3],\n",
       "       [4, 5, 6]])"
      ]
     },
     "execution_count": 4,
     "metadata": {},
     "output_type": "execute_result"
    }
   ],
   "source": [
    "array"
   ]
  },
  {
   "cell_type": "markdown",
   "id": "6ea9a45f",
   "metadata": {},
   "source": [
    "Çıktıda görüldüğü üzere 2 boyutlu bir dizi elde edilmiştir. \n",
    "\n",
    "Şimdi bu nesnenin özelliklerini metotlar aracılığı ile inceleyelim."
   ]
  },
  {
   "cell_type": "markdown",
   "id": "acdd31e4",
   "metadata": {},
   "source": [
    "Oluşturduğumuz nesnenin tipini öğrenmek için type() metodundan yararlanırız."
   ]
  },
  {
   "cell_type": "code",
   "execution_count": 5,
   "id": "424aa0d0",
   "metadata": {},
   "outputs": [
    {
     "data": {
      "text/plain": [
       "numpy.ndarray"
      ]
     },
     "execution_count": 5,
     "metadata": {},
     "output_type": "execute_result"
    }
   ],
   "source": [
    "type(array)"
   ]
  },
  {
   "cell_type": "markdown",
   "id": "b72d7a1d",
   "metadata": {},
   "source": [
    "Nesnenin kaç boyutlu olduğuna bakmak için ndim özelliğini kullanabiliriz."
   ]
  },
  {
   "cell_type": "code",
   "execution_count": 6,
   "id": "9e699e2b",
   "metadata": {},
   "outputs": [
    {
     "data": {
      "text/plain": [
       "2"
      ]
     },
     "execution_count": 6,
     "metadata": {},
     "output_type": "execute_result"
    }
   ],
   "source": [
    "array.ndim"
   ]
  },
  {
   "cell_type": "markdown",
   "id": "0a43a6ca",
   "metadata": {},
   "source": [
    "Çıktıda görüldüğü üzere nesne 2 boyutludur.\n",
    "\n",
    "Nesnenin boyutlarının uzunluğuna bakmak için shape özelliğini kullanalım."
   ]
  },
  {
   "cell_type": "code",
   "execution_count": 7,
   "id": "5d19fd65",
   "metadata": {},
   "outputs": [
    {
     "data": {
      "text/plain": [
       "(2, 3)"
      ]
     },
     "execution_count": 7,
     "metadata": {},
     "output_type": "execute_result"
    }
   ],
   "source": [
    "array.shape"
   ]
  },
  {
   "cell_type": "markdown",
   "id": "b9e854f0",
   "metadata": {},
   "source": [
    "Çıktıda görüldüğü üzere nesnede 2 satır ve 3 sütun bulunmaktadır.\n",
    "\n",
    "Nesnenin içerdiği elementlerin tipini öğrenmek için dtype özelliğini kullanabiliriz."
   ]
  },
  {
   "cell_type": "code",
   "execution_count": 8,
   "id": "cd93590e",
   "metadata": {},
   "outputs": [
    {
     "data": {
      "text/plain": [
       "dtype('int32')"
      ]
     },
     "execution_count": 8,
     "metadata": {},
     "output_type": "execute_result"
    }
   ],
   "source": [
    "array.dtype"
   ]
  }
 ],
 "metadata": {
  "kernelspec": {
   "display_name": "Python 3 (ipykernel)",
   "language": "python",
   "name": "python3"
  },
  "language_info": {
   "codemirror_mode": {
    "name": "ipython",
    "version": 3
   },
   "file_extension": ".py",
   "mimetype": "text/x-python",
   "name": "python",
   "nbconvert_exporter": "python",
   "pygments_lexer": "ipython3",
   "version": "3.9.12"
  }
 },
 "nbformat": 4,
 "nbformat_minor": 5
}
