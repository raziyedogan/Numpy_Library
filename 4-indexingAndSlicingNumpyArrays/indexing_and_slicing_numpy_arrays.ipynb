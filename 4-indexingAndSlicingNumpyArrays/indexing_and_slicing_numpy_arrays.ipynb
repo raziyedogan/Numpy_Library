{
 "cells": [
  {
   "cell_type": "markdown",
   "id": "5dcfb413",
   "metadata": {},
   "source": [
    "# Numpy Dizilerini İndeksleme Ve Dilimleme\n",
    "\n",
    "Numpy dizilerinin öğelerine ve alt dizilerine, Python listelerinde de kullanılan standart köşeli ayraç gösterimi kullanılarak erişilir.\n",
    "\n",
    "## Tek boyutlu dizilerde indeksleme ve dilimleme operasyonları\n",
    "\n",
    "Şimdi durumların daha iyi anlaşılabilmesi amacıyla bir uygulama gerçekleştirelim.\n",
    "\n",
    "9 ile 99 aralığında 10 sayı oluşturalım."
   ]
  },
  {
   "cell_type": "code",
   "execution_count": 1,
   "id": "46c8e245",
   "metadata": {},
   "outputs": [],
   "source": [
    "import numpy as np"
   ]
  },
  {
   "cell_type": "code",
   "execution_count": 2,
   "id": "b46eceba",
   "metadata": {},
   "outputs": [],
   "source": [
    "data = np.linspace(start=9, stop=99, num=10)"
   ]
  },
  {
   "cell_type": "code",
   "execution_count": 3,
   "id": "2f9373a5",
   "metadata": {},
   "outputs": [
    {
     "data": {
      "text/plain": [
       "array([ 9., 19., 29., 39., 49., 59., 69., 79., 89., 99.])"
      ]
     },
     "execution_count": 3,
     "metadata": {},
     "output_type": "execute_result"
    }
   ],
   "source": [
    "data"
   ]
  },
  {
   "cell_type": "markdown",
   "id": "cce7e1d8",
   "metadata": {},
   "source": [
    "Dizinin ilk elemanına erişelim."
   ]
  },
  {
   "cell_type": "code",
   "execution_count": 4,
   "id": "c4c628fd",
   "metadata": {},
   "outputs": [
    {
     "data": {
      "text/plain": [
       "9.0"
      ]
     },
     "execution_count": 4,
     "metadata": {},
     "output_type": "execute_result"
    }
   ],
   "source": [
    "data[0]"
   ]
  },
  {
   "cell_type": "markdown",
   "id": "377959c2",
   "metadata": {},
   "source": [
    "Dizinin son elemanına erişelim."
   ]
  },
  {
   "cell_type": "code",
   "execution_count": 5,
   "id": "8aae54b8",
   "metadata": {},
   "outputs": [
    {
     "data": {
      "text/plain": [
       "99.0"
      ]
     },
     "execution_count": 5,
     "metadata": {},
     "output_type": "execute_result"
    }
   ],
   "source": [
    "data[-1]"
   ]
  },
  {
   "cell_type": "markdown",
   "id": "1d7e3d7e",
   "metadata": {},
   "source": [
    "Dizinin 3.elemanına erişelim. İndeks 0'dan başladığı için 3.eleman 2.indekste yer almaktadır."
   ]
  },
  {
   "cell_type": "code",
   "execution_count": 6,
   "id": "19089bd1",
   "metadata": {},
   "outputs": [
    {
     "data": {
      "text/plain": [
       "29.0"
      ]
     },
     "execution_count": 6,
     "metadata": {},
     "output_type": "execute_result"
    }
   ],
   "source": [
    "data[2]"
   ]
  },
  {
   "cell_type": "markdown",
   "id": "67d266b6",
   "metadata": {},
   "source": [
    "Dizinin 2. ile 4.indeksler aralığındaki değerlere erişelim."
   ]
  },
  {
   "cell_type": "code",
   "execution_count": 7,
   "id": "9ad7a06e",
   "metadata": {},
   "outputs": [
    {
     "data": {
      "text/plain": [
       "array([29., 39., 49.])"
      ]
     },
     "execution_count": 7,
     "metadata": {},
     "output_type": "execute_result"
    }
   ],
   "source": [
    "data[2:5]"
   ]
  },
  {
   "cell_type": "markdown",
   "id": "3c7c569d",
   "metadata": {},
   "source": [
    "Dizide belli bir element aralığına erişebilmek için [başla:bitir:adım_uzunluğu] yapısını kullanmalıyız.\n",
    "\n",
    "Sıfırıncı indeksten başlayarak 2'şer ilerleyerek yedinci indekse kadarki değerlere erişelim."
   ]
  },
  {
   "cell_type": "code",
   "execution_count": 8,
   "id": "b9fa5505",
   "metadata": {},
   "outputs": [
    {
     "data": {
      "text/plain": [
       "array([ 9., 29., 49., 69.])"
      ]
     },
     "execution_count": 8,
     "metadata": {},
     "output_type": "execute_result"
    }
   ],
   "source": [
    "data[0:7:2]"
   ]
  },
  {
   "cell_type": "markdown",
   "id": "c57d8069",
   "metadata": {},
   "source": [
    "## Çok boyutlu dizilerde indeksleme ve dilimleme operasyonları\n",
    "\n",
    "Bir örnek ile anlayalım. 1'den 12'ye kadar değerleri içeren 3 satır 4 sütundan oluşan bir dizi oluşturalım."
   ]
  },
  {
   "cell_type": "code",
   "execution_count": 9,
   "id": "c40378b8",
   "metadata": {},
   "outputs": [],
   "source": [
    "data = np.array([[1,2,3,4], [5,6,7,8], [9,10,11,12]])"
   ]
  },
  {
   "cell_type": "code",
   "execution_count": 10,
   "id": "c696081d",
   "metadata": {},
   "outputs": [
    {
     "data": {
      "text/plain": [
       "array([[ 1,  2,  3,  4],\n",
       "       [ 5,  6,  7,  8],\n",
       "       [ 9, 10, 11, 12]])"
      ]
     },
     "execution_count": 10,
     "metadata": {},
     "output_type": "execute_result"
    }
   ],
   "source": [
    "data"
   ]
  },
  {
   "cell_type": "code",
   "execution_count": 11,
   "id": "b70bd9d9",
   "metadata": {},
   "outputs": [
    {
     "data": {
      "text/plain": [
       "2"
      ]
     },
     "execution_count": 11,
     "metadata": {},
     "output_type": "execute_result"
    }
   ],
   "source": [
    "data.ndim"
   ]
  },
  {
   "cell_type": "code",
   "execution_count": 12,
   "id": "40027bff",
   "metadata": {},
   "outputs": [
    {
     "data": {
      "text/plain": [
       "(3, 4)"
      ]
     },
     "execution_count": 12,
     "metadata": {},
     "output_type": "execute_result"
    }
   ],
   "source": [
    "data.shape"
   ]
  },
  {
   "cell_type": "markdown",
   "id": "1d08d293",
   "metadata": {},
   "source": [
    "Dizinin ilk sütununa erişelim."
   ]
  },
  {
   "cell_type": "code",
   "execution_count": 13,
   "id": "2d4e8db0",
   "metadata": {},
   "outputs": [
    {
     "data": {
      "text/plain": [
       "array([1, 5, 9])"
      ]
     },
     "execution_count": 13,
     "metadata": {},
     "output_type": "execute_result"
    }
   ],
   "source": [
    "data[:,0]"
   ]
  },
  {
   "cell_type": "markdown",
   "id": "5b414a40",
   "metadata": {},
   "source": [
    "Dizinin ikinci indeks sütununa erişelim."
   ]
  },
  {
   "cell_type": "code",
   "execution_count": 14,
   "id": "d9bbb272",
   "metadata": {},
   "outputs": [
    {
     "data": {
      "text/plain": [
       "array([ 3,  7, 11])"
      ]
     },
     "execution_count": 14,
     "metadata": {},
     "output_type": "execute_result"
    }
   ],
   "source": [
    "data[:,2]"
   ]
  },
  {
   "cell_type": "markdown",
   "id": "20f4bb86",
   "metadata": {},
   "source": [
    "Dizinin ilk satırına erişelim."
   ]
  },
  {
   "cell_type": "code",
   "execution_count": 15,
   "id": "a3318bc3",
   "metadata": {},
   "outputs": [
    {
     "data": {
      "text/plain": [
       "array([1, 2, 3, 4])"
      ]
     },
     "execution_count": 15,
     "metadata": {},
     "output_type": "execute_result"
    }
   ],
   "source": [
    "data[0,:]"
   ]
  },
  {
   "cell_type": "markdown",
   "id": "7bd55572",
   "metadata": {},
   "source": [
    "Dizinin ikinci indeks satırına erişelim."
   ]
  },
  {
   "cell_type": "code",
   "execution_count": 16,
   "id": "bd4dbc65",
   "metadata": {},
   "outputs": [
    {
     "data": {
      "text/plain": [
       "array([ 9, 10, 11, 12])"
      ]
     },
     "execution_count": 16,
     "metadata": {},
     "output_type": "execute_result"
    }
   ],
   "source": [
    "data[2,:]"
   ]
  },
  {
   "cell_type": "markdown",
   "id": "783d639e",
   "metadata": {},
   "source": [
    "Dizide belli bir element aralığını seçmek için [başla:bitir:adım_uzunluğu, başla:bitir:adım_uzunluğu] yapısı kullanılır.\n",
    "\n",
    "Sıfırıncı satır indeksinden başlayarak iki adım ile son satır indekse kadar olan ve sıfırıncı sütun indeksinden başlayarak üç adım ile son sütun indeksine kadar arada kalan değerlere ulaşmak için [0:3:2,0:4:3] yapısı kullanılır."
   ]
  },
  {
   "cell_type": "code",
   "execution_count": 17,
   "id": "de172abc",
   "metadata": {},
   "outputs": [
    {
     "data": {
      "text/plain": [
       "array([[ 1,  4],\n",
       "       [ 9, 12]])"
      ]
     },
     "execution_count": 17,
     "metadata": {},
     "output_type": "execute_result"
    }
   ],
   "source": [
    "data[0:3:2,0:4:3]"
   ]
  }
 ],
 "metadata": {
  "kernelspec": {
   "display_name": "Python 3 (ipykernel)",
   "language": "python",
   "name": "python3"
  },
  "language_info": {
   "codemirror_mode": {
    "name": "ipython",
    "version": 3
   },
   "file_extension": ".py",
   "mimetype": "text/x-python",
   "name": "python",
   "nbconvert_exporter": "python",
   "pygments_lexer": "ipython3",
   "version": "3.9.12"
  }
 },
 "nbformat": 4,
 "nbformat_minor": 5
}
